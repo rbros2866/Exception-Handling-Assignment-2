{
 "cells": [
  {
   "cell_type": "markdown",
   "id": "2f4e074f",
   "metadata": {},
   "source": [
    "Q1. Explain why we have to use the Exception class while creating a Custom Exception.\n",
    "\n",
    "Note: Here Exception class refers to the base class for all the exceptions."
   ]
  },
  {
   "cell_type": "markdown",
   "id": "3a4d2784",
   "metadata": {},
   "source": [
    "It provides a standardized structure and behavior for handling exceptions.\n",
    "\n",
    "Inheriting from Exception ensures consistent exception handling practices.\n",
    "\n",
    "It allows our custom exceptions to be categorized under specific exception types in the exception hierarchy.\n",
    "\n",
    "Custom exceptions inherit the ability to be raised, caught, and handled using try and except blocks.\n",
    "\n",
    "It ensures compatibility and proper integration with the existing exception handling mechanisms in Python."
   ]
  },
  {
   "cell_type": "markdown",
   "id": "d8d65f4c",
   "metadata": {},
   "source": [
    "Q2. Write a python program to print Python Exception Hierarchy."
   ]
  },
  {
   "cell_type": "code",
   "execution_count": 1,
   "id": "2160dc51",
   "metadata": {},
   "outputs": [
    {
     "name": "stdout",
     "output_type": "stream",
     "text": [
      "ArithmeticError\n",
      "AssertionError\n",
      "AttributeError\n",
      "BlockingIOError\n",
      "BrokenPipeError\n",
      "BufferError\n",
      "ChildProcessError\n",
      "ConnectionAbortedError\n",
      "ConnectionError\n",
      "ConnectionRefusedError\n",
      "ConnectionResetError\n",
      "EOFError\n",
      "EnvironmentError\n",
      "FileExistsError\n",
      "FileNotFoundError\n",
      "FloatingPointError\n",
      "IOError\n",
      "ImportError\n",
      "IndentationError\n",
      "IndexError\n",
      "InterruptedError\n",
      "IsADirectoryError\n",
      "KeyError\n",
      "LookupError\n",
      "MemoryError\n",
      "ModuleNotFoundError\n",
      "NameError\n",
      "NotADirectoryError\n",
      "NotImplementedError\n",
      "OSError\n",
      "OverflowError\n",
      "PermissionError\n",
      "ProcessLookupError\n",
      "RecursionError\n",
      "ReferenceError\n",
      "RuntimeError\n",
      "SyntaxError\n",
      "SystemError\n",
      "TabError\n",
      "TimeoutError\n",
      "TypeError\n",
      "UnboundLocalError\n",
      "UnicodeDecodeError\n",
      "UnicodeEncodeError\n",
      "UnicodeError\n",
      "UnicodeTranslateError\n",
      "ValueError\n",
      "WindowsError\n",
      "ZeroDivisionError\n"
     ]
    }
   ],
   "source": [
    "def print_exception_hierarchy():\n",
    "    for exception in dir(__builtins__):\n",
    "        if \"Error\" in exception:\n",
    "            print(exception)\n",
    "\n",
    "# Print the simplified exception hierarchy\n",
    "print_exception_hierarchy()\n"
   ]
  },
  {
   "cell_type": "markdown",
   "id": "feb06a8a",
   "metadata": {},
   "source": [
    "Q3. What errors are defined in the ArithmeticError class? Explain any two with an example."
   ]
  },
  {
   "cell_type": "markdown",
   "id": "42007e6e",
   "metadata": {},
   "source": [
    "Following are the error names defined in the ArithmeticError class:\n",
    "\n",
    "ZeroDivisionError\n",
    "\n",
    "OverflowError\n",
    "\n",
    "FloatingPointError\n",
    "\n",
    "UnderflowError\n",
    "\n",
    "InvalidOperation\n"
   ]
  },
  {
   "cell_type": "code",
   "execution_count": 4,
   "id": "9da7da48",
   "metadata": {},
   "outputs": [
    {
     "name": "stdout",
     "output_type": "stream",
     "text": [
      "Error: Division by zero\n"
     ]
    }
   ],
   "source": [
    "#ZeroDivisionError\n",
    "\n",
    "a = 10\n",
    "b = 0\n",
    "try:\n",
    "    result = a / b\n",
    "    print(result)\n",
    "except ZeroDivisionError:\n",
    "    print(\"Error: Division by zero\")\n"
   ]
  },
  {
   "cell_type": "code",
   "execution_count": 12,
   "id": "3faf061a",
   "metadata": {},
   "outputs": [
    {
     "name": "stdout",
     "output_type": "stream",
     "text": [
      "Error: Invalid operation\n"
     ]
    }
   ],
   "source": [
    "# InvalidOperation\n",
    "from decimal import Decimal, InvalidOperation\n",
    "\n",
    "a = Decimal('-10.5')\n",
    "\n",
    "try:\n",
    "    result = a.sqrt()  # Square root operation\n",
    "    print(result)\n",
    "except InvalidOperation:\n",
    "    print(\"Error: Invalid operation\")"
   ]
  },
  {
   "cell_type": "markdown",
   "id": "b1dea0bd",
   "metadata": {},
   "source": [
    "Q4. Why LookupError class is used? Explain with an example KeyError and IndexError."
   ]
  },
  {
   "cell_type": "markdown",
   "id": "18a03925",
   "metadata": {},
   "source": [
    "The LookupError class in Python is used as a base class for exceptions related to lookup or indexing operations.\n",
    "\n",
    "It provides a common base for more specific lookup-related exceptions like KeyError and IndexError.\n",
    "\n",
    "KeyError is raised when a dictionary key is not found.\n",
    "\n",
    "IndexError is raised when attempting to access an invalid index of a sequence (e.g., list, tuple, string)."
   ]
  },
  {
   "cell_type": "code",
   "execution_count": 13,
   "id": "73bd7fd9",
   "metadata": {},
   "outputs": [
    {
     "name": "stdout",
     "output_type": "stream",
     "text": [
      "Error: Key not found\n"
     ]
    }
   ],
   "source": [
    "my_dict = {'a': 1, 'b': 2, 'c': 3}\n",
    "\n",
    "try:\n",
    "    value = my_dict['d']  # Accessing a non-existent key\n",
    "    print(value)\n",
    "except KeyError:\n",
    "    print(\"Error: Key not found\")\n"
   ]
  },
  {
   "cell_type": "code",
   "execution_count": 14,
   "id": "a41465b5",
   "metadata": {},
   "outputs": [
    {
     "name": "stdout",
     "output_type": "stream",
     "text": [
      "Error: Index out of range\n"
     ]
    }
   ],
   "source": [
    "my_list = [1, 2, 3]\n",
    "\n",
    "try:\n",
    "    value = my_list[3]  # Accessing an out-of-range index\n",
    "    print(value)\n",
    "except IndexError:\n",
    "    print(\"Error: Index out of range\")\n"
   ]
  },
  {
   "cell_type": "markdown",
   "id": "22affb09",
   "metadata": {},
   "source": [
    "Q5. Explain ImportError. What is ModuleNotFoundError?"
   ]
  },
  {
   "cell_type": "markdown",
   "id": "e3f0674e",
   "metadata": {},
   "source": [
    "ImportError is raised when there is an issue with importing a module in Python.\n",
    "\n",
    "ModuleNotFoundError is a specific type of ImportError that indicates the module could not be found or does not exist.\n",
    "\n",
    "Both exceptions are used to handle errors related to importing modules.\n"
   ]
  },
  {
   "cell_type": "code",
   "execution_count": 15,
   "id": "4479a966",
   "metadata": {},
   "outputs": [
    {
     "name": "stdout",
     "output_type": "stream",
     "text": [
      "Error: Module not found\n"
     ]
    }
   ],
   "source": [
    "try:\n",
    "    import my_module  # Attempting to import a module that does not exist\n",
    "except ModuleNotFoundError:\n",
    "    print(\"Error: Module not found\")\n"
   ]
  },
  {
   "cell_type": "markdown",
   "id": "16224706",
   "metadata": {},
   "source": [
    "Q6. List down some best practices for exception handling in python."
   ]
  },
  {
   "cell_type": "markdown",
   "id": "1c4f10a7",
   "metadata": {},
   "source": [
    "Following are some best practices for exception handling in Python:\n",
    "\n",
    "Be specific in exception handling: Catch only the exceptions you expect and know how to handle. Avoid catching generic exceptions like Exception as it may hide unexpected errors.\n",
    "\n",
    "Use multiple except blocks: Handle different exceptions separately to provide specific error messages and appropriate handling for each case.\n",
    "\n",
    "Use finally block: Utilize the finally block to execute code that should always run, regardless of whether an exception was raised or not. It is commonly used for resource cleanup.\n",
    "\n",
    "Avoid bare except: Avoid using a bare except statement without specifying the exception type. It can catch unintended exceptions and make debugging difficult.\n",
    "\n",
    "Handle exceptions at the right level: Place exception handling at the appropriate level in your code. Handle exceptions where you can take meaningful action or provide relevant error information.\n",
    "\n",
    "Log exceptions: Use a logging mechanism to record exceptions. It helps in debugging and understanding the cause of errors.\n",
    "\n",
    "Use context managers: Utilize context managers (with statement) to automatically handle resource cleanup, such as file handling or database connections.\n",
    "\n",
    "Provide informative error messages: Include meaningful and descriptive error messages in your exceptions to aid in troubleshooting and understanding the cause of errors.\n",
    "\n",
    "Consider raising custom exceptions: Define and raise custom exceptions when appropriate. It provides clarity and allows for specific handling of exceptional cases in your code.\n",
    "\n",
    "Test exception handling: Include unit tests that specifically target exception handling scenarios to ensure the correctness of your error handling code."
   ]
  }
 ],
 "metadata": {
  "kernelspec": {
   "display_name": "Python 3 (ipykernel)",
   "language": "python",
   "name": "python3"
  },
  "language_info": {
   "codemirror_mode": {
    "name": "ipython",
    "version": 3
   },
   "file_extension": ".py",
   "mimetype": "text/x-python",
   "name": "python",
   "nbconvert_exporter": "python",
   "pygments_lexer": "ipython3",
   "version": "3.11.1"
  }
 },
 "nbformat": 4,
 "nbformat_minor": 5
}
